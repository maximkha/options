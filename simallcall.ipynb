{
 "metadata": {
  "language_info": {
   "codemirror_mode": {
    "name": "ipython",
    "version": 3
   },
   "file_extension": ".py",
   "mimetype": "text/x-python",
   "name": "python",
   "nbconvert_exporter": "python",
   "pygments_lexer": "ipython3",
   "version": "3.8.0"
  },
  "orig_nbformat": 2,
  "kernelspec": {
   "name": "python380jvsc74a57bd0c4a6cc1c2df5ddd62d6925b2a7bdee9abacf912eab37272999970e810b9642fd",
   "display_name": "Python 3.8.0 64-bit"
  }
 },
 "nbformat": 4,
 "nbformat_minor": 2,
 "cells": [
  {
   "cell_type": "code",
   "execution_count": 10,
   "metadata": {},
   "outputs": [],
   "source": [
    "import numpy as np\n",
    "import pandas as pd\n",
    "from simoptions import create_call, calchistdata"
   ]
  },
  {
   "cell_type": "code",
   "execution_count": 11,
   "metadata": {},
   "outputs": [],
   "source": [
    "TICKER = \"SPY\"\n",
    "EXPR = 67 #9-2 #46 #32 #days\n",
    "\n",
    "CALL_FILE = \"SPY_CALL_5.10.21_7.16.21\" #\"SPY_CALL_5.10.21_6.19.21\" #\"SPY_CALL_5.10.21_6.25.21\" #\"SPY_CALL_5.10.21_5.11.21\"\n",
    "OPT_PRICE_COL = \"Ask\"\n",
    "\n",
    "CURRENT_PRICE = 417.96"
   ]
  },
  {
   "cell_type": "code",
   "execution_count": 12,
   "metadata": {},
   "outputs": [],
   "source": [
    "df = pd.read_csv(TICKER.upper() + \".csv\")\n",
    "prices = df[\"Close\"].values\n",
    "\n",
    "#assume the same diff dist\n",
    "diffs = calchistdata(prices, EXPR)"
   ]
  },
  {
   "cell_type": "code",
   "execution_count": 13,
   "metadata": {},
   "outputs": [],
   "source": [
    "calldf = pd.read_csv(CALL_FILE + \".csv\")"
   ]
  },
  {
   "cell_type": "code",
   "execution_count": 14,
   "metadata": {},
   "outputs": [
    {
     "output_type": "stream",
     "name": "stderr",
     "text": [
      "c:\\Users\\maxim\\Desktop\\js\\opt\\simoptions.py:4: RuntimeWarning: divide by zero encountered in true_divide\n  return lambda x: ((multiplier*(np.maximum((current_price*(1+x))-strike_price,0)-option_price))/(multiplier*option_price))#current_price)\nc:\\Users\\maxim\\Desktop\\js\\opt\\simoptions.py:4: RuntimeWarning: invalid value encountered in true_divide\n  return lambda x: ((multiplier*(np.maximum((current_price*(1+x))-strike_price,0)-option_price))/(multiplier*option_price))#current_price)\n"
     ]
    }
   ],
   "source": [
    "outpdata = []\r\n",
    "price_strike = calldf[[OPT_PRICE_COL, \"Strike\", \"Contract Name\"]].values\r\n",
    "for rowi in range(0, calldf.shape[0]):\r\n",
    "    optprice, strikeprice, contract = price_strike[rowi]\r\n",
    "    CALL = create_call(optprice, strikeprice, CURRENT_PRICE)\r\n",
    "    profits = CALL(diffs)\r\n",
    "    outpdata.append([contract, strikeprice, optprice, np.mean(profits), np.std(profits), np.median(profits), np.min(profits), np.max(profits), (profits>0).sum()/len(profits)])\r\n",
    "    # print(f\"Mean   : {np.mean(profits)}\")\r\n",
    "    # print(f\"STD    : {np.std(profits)}\")\r\n",
    "    # print(f\"Median : {np.median(profits)}\")\r\n",
    "    # print(f\"Min    : {np.min(profits)}\")\r\n",
    "    # print(f\"Max    : {np.max(profits)}\")\r\n",
    "    # print(f\"%in $  : {(profits>0).sum()/len(profits)}\")"
   ]
  },
  {
   "cell_type": "code",
   "execution_count": 15,
   "metadata": {},
   "outputs": [],
   "source": [
    "# CALL = create_call(7.64, 418, 417.96)\n",
    "# profits = CALL(diffs)\n",
    "# print(f\"Mean   : {np.mean(profits)}\")\n",
    "# print(f\"STD    : {np.std(profits)}\")\n",
    "# print(f\"Median : {np.median(profits)}\")\n",
    "# print(f\"Min    : {np.min(profits)}\")\n",
    "# print(f\"Max    : {np.max(profits)}\")\n",
    "# print(f\"%in $  : {(profits>0).sum()/len(profits)}\")"
   ]
  },
  {
   "cell_type": "code",
   "execution_count": 16,
   "metadata": {},
   "outputs": [],
   "source": [
    "resultsdf = pd.DataFrame(data=outpdata,columns=[\"contract\", \"strike\", \"optionprice\", \"mean\", \"std\", \"median\", \"min\", \"max\", \"pProf\"])"
   ]
  },
  {
   "cell_type": "code",
   "execution_count": 17,
   "metadata": {},
   "outputs": [
    {
     "output_type": "execute_result",
     "data": {
      "text/plain": [
       "               contract  strike  optionprice      mean        std    median  \\\n",
       "0    SPY210716C00185000   185.0       233.35  0.040802   0.139391  0.055192   \n",
       "1    SPY210716C00200000   200.0       218.37  0.043509   0.148953  0.058887   \n",
       "2    SPY210716C00210000   210.0       181.93  0.197555   0.178787  0.216012   \n",
       "3    SPY210716C00215000   215.0       168.41  0.264005   0.193141  0.283945   \n",
       "4    SPY210716C00220000   220.0       161.47  0.287367   0.201442  0.308163   \n",
       "..                  ...     ...          ...       ...        ...       ...   \n",
       "185  SPY210716C00540000   540.0         0.02  0.514915  47.037424 -1.000000   \n",
       "186  SPY210716C00545000   545.0         0.02  0.204842  39.183444 -1.000000   \n",
       "187  SPY210716C00550000   550.0         0.02 -0.080710  31.700407 -1.000000   \n",
       "188  SPY210716C00555000   555.0         0.02 -0.340940  24.750327 -1.000000   \n",
       "189  SPY210716C00560000   560.0         0.02 -0.588990  18.594506 -1.000000   \n",
       "\n",
       "          min          max     pProf  \n",
       "0   -0.740221     0.707575  0.682324  \n",
       "1   -0.791091     0.756022  0.682182  \n",
       "2   -0.804213     1.052782  0.883352  \n",
       "3   -0.818185     1.187890  0.912764  \n",
       "4   -0.841336     1.250960  0.919903  \n",
       "..        ...          ...       ...  \n",
       "185 -1.000000  2172.129535  0.001285  \n",
       "186 -1.000000  1922.129535  0.001142  \n",
       "187 -1.000000  1672.129535  0.001142  \n",
       "188 -1.000000  1422.129535  0.000999  \n",
       "189 -1.000000  1172.129535  0.000857  \n",
       "\n",
       "[190 rows x 9 columns]"
      ],
      "text/html": "<div>\n<style scoped>\n    .dataframe tbody tr th:only-of-type {\n        vertical-align: middle;\n    }\n\n    .dataframe tbody tr th {\n        vertical-align: top;\n    }\n\n    .dataframe thead th {\n        text-align: right;\n    }\n</style>\n<table border=\"1\" class=\"dataframe\">\n  <thead>\n    <tr style=\"text-align: right;\">\n      <th></th>\n      <th>contract</th>\n      <th>strike</th>\n      <th>optionprice</th>\n      <th>mean</th>\n      <th>std</th>\n      <th>median</th>\n      <th>min</th>\n      <th>max</th>\n      <th>pProf</th>\n    </tr>\n  </thead>\n  <tbody>\n    <tr>\n      <th>0</th>\n      <td>SPY210716C00185000</td>\n      <td>185.0</td>\n      <td>233.35</td>\n      <td>0.040802</td>\n      <td>0.139391</td>\n      <td>0.055192</td>\n      <td>-0.740221</td>\n      <td>0.707575</td>\n      <td>0.682324</td>\n    </tr>\n    <tr>\n      <th>1</th>\n      <td>SPY210716C00200000</td>\n      <td>200.0</td>\n      <td>218.37</td>\n      <td>0.043509</td>\n      <td>0.148953</td>\n      <td>0.058887</td>\n      <td>-0.791091</td>\n      <td>0.756022</td>\n      <td>0.682182</td>\n    </tr>\n    <tr>\n      <th>2</th>\n      <td>SPY210716C00210000</td>\n      <td>210.0</td>\n      <td>181.93</td>\n      <td>0.197555</td>\n      <td>0.178787</td>\n      <td>0.216012</td>\n      <td>-0.804213</td>\n      <td>1.052782</td>\n      <td>0.883352</td>\n    </tr>\n    <tr>\n      <th>3</th>\n      <td>SPY210716C00215000</td>\n      <td>215.0</td>\n      <td>168.41</td>\n      <td>0.264005</td>\n      <td>0.193141</td>\n      <td>0.283945</td>\n      <td>-0.818185</td>\n      <td>1.187890</td>\n      <td>0.912764</td>\n    </tr>\n    <tr>\n      <th>4</th>\n      <td>SPY210716C00220000</td>\n      <td>220.0</td>\n      <td>161.47</td>\n      <td>0.287367</td>\n      <td>0.201442</td>\n      <td>0.308163</td>\n      <td>-0.841336</td>\n      <td>1.250960</td>\n      <td>0.919903</td>\n    </tr>\n    <tr>\n      <th>...</th>\n      <td>...</td>\n      <td>...</td>\n      <td>...</td>\n      <td>...</td>\n      <td>...</td>\n      <td>...</td>\n      <td>...</td>\n      <td>...</td>\n      <td>...</td>\n    </tr>\n    <tr>\n      <th>185</th>\n      <td>SPY210716C00540000</td>\n      <td>540.0</td>\n      <td>0.02</td>\n      <td>0.514915</td>\n      <td>47.037424</td>\n      <td>-1.000000</td>\n      <td>-1.000000</td>\n      <td>2172.129535</td>\n      <td>0.001285</td>\n    </tr>\n    <tr>\n      <th>186</th>\n      <td>SPY210716C00545000</td>\n      <td>545.0</td>\n      <td>0.02</td>\n      <td>0.204842</td>\n      <td>39.183444</td>\n      <td>-1.000000</td>\n      <td>-1.000000</td>\n      <td>1922.129535</td>\n      <td>0.001142</td>\n    </tr>\n    <tr>\n      <th>187</th>\n      <td>SPY210716C00550000</td>\n      <td>550.0</td>\n      <td>0.02</td>\n      <td>-0.080710</td>\n      <td>31.700407</td>\n      <td>-1.000000</td>\n      <td>-1.000000</td>\n      <td>1672.129535</td>\n      <td>0.001142</td>\n    </tr>\n    <tr>\n      <th>188</th>\n      <td>SPY210716C00555000</td>\n      <td>555.0</td>\n      <td>0.02</td>\n      <td>-0.340940</td>\n      <td>24.750327</td>\n      <td>-1.000000</td>\n      <td>-1.000000</td>\n      <td>1422.129535</td>\n      <td>0.000999</td>\n    </tr>\n    <tr>\n      <th>189</th>\n      <td>SPY210716C00560000</td>\n      <td>560.0</td>\n      <td>0.02</td>\n      <td>-0.588990</td>\n      <td>18.594506</td>\n      <td>-1.000000</td>\n      <td>-1.000000</td>\n      <td>1172.129535</td>\n      <td>0.000857</td>\n    </tr>\n  </tbody>\n</table>\n<p>190 rows × 9 columns</p>\n</div>"
     },
     "metadata": {},
     "execution_count": 17
    }
   ],
   "source": [
    "resultsdf"
   ]
  },
  {
   "cell_type": "code",
   "execution_count": 18,
   "metadata": {},
   "outputs": [],
   "source": [
    "resultsdf.to_csv(\"out(7.16).csv\", index=False)"
   ]
  },
  {
   "cell_type": "code",
   "execution_count": null,
   "metadata": {},
   "outputs": [],
   "source": []
  }
 ]
}